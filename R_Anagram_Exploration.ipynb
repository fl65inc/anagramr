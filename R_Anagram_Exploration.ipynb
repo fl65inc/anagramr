{
 "cells": [
  {
   "cell_type": "markdown",
   "metadata": {},
   "source": "Can I come up with a better way to create the \"signatures\" for an anagram utility?  Ideally, I want them to be created in a vectorized manner, not via looping."
  },
  {
   "cell_type": "code",
   "execution_count": 183,
   "metadata": {},
   "outputs": [
    {
     "data": {
      "text/html": "<ol>\n\t<li>'ilos'</li>\n\t<li>'ilos'</li>\n\t<li>'ilos'</li>\n\t<li>'eegmrr'</li>\n</ol>\n",
      "text/latex": "\\begin{enumerate}\n\\item 'ilos'\n\\item 'ilos'\n\\item 'ilos'\n\\item 'eegmrr'\n\\end{enumerate}\n",
      "text/markdown": "1. 'ilos'\n2. 'ilos'\n3. 'ilos'\n4. 'eegmrr'\n\n\n",
      "text/plain": "[[1]]\n[1] \"ilos\"\n\n[[2]]\n[1] \"ilos\"\n\n[[3]]\n[1] \"ilos\"\n\n[[4]]\n[1] \"eegmrr\"\n"
     },
     "metadata": {},
     "output_type": "display_data"
    }
   ],
   "source": "word_df <- data.frame(\"word\" = c(\"Lois\", \"oils\", \"silo\", \"merger\"), stringsAsFactors = FALSE)\n\n# previous attempt.  Slow.\nsignatures <- lapply(word_df$word, \n                     function(x) \n                     {paste0(sort(unlist(strsplit(tolower(x), \"\"))), collapse = \"\")}\n                    )\n\nsignatures"
  },
  {
   "cell_type": "code",
   "execution_count": 184,
   "metadata": {},
   "outputs": [
    {
     "data": {
      "text/html": "<table>\n<caption>A data.frame: 4 × 2</caption>\n<thead>\n\t<tr><th></th><th scope=col>word</th><th scope=col>lower_case</th></tr>\n\t<tr><th></th><th scope=col>&lt;chr&gt;</th><th scope=col>&lt;chr&gt;</th></tr>\n</thead>\n<tbody>\n\t<tr><th scope=row>1</th><td>Lois  </td><td>lois  </td></tr>\n\t<tr><th scope=row>2</th><td>oils  </td><td>oils  </td></tr>\n\t<tr><th scope=row>3</th><td>silo  </td><td>silo  </td></tr>\n\t<tr><th scope=row>4</th><td>merger</td><td>merger</td></tr>\n</tbody>\n</table>\n",
      "text/latex": "A data.frame: 4 × 2\n\\begin{tabular}{r|ll}\n  & word & lower\\_case\\\\\n  & <chr> & <chr>\\\\\n\\hline\n\t1 & Lois   & lois  \\\\\n\t2 & oils   & oils  \\\\\n\t3 & silo   & silo  \\\\\n\t4 & merger & merger\\\\\n\\end{tabular}\n",
      "text/markdown": "\nA data.frame: 4 × 2\n\n| <!--/--> | word &lt;chr&gt; | lower_case &lt;chr&gt; |\n|---|---|---|\n| 1 | Lois   | lois   |\n| 2 | oils   | oils   |\n| 3 | silo   | silo   |\n| 4 | merger | merger |\n\n",
      "text/plain": "  word   lower_case\n1 Lois   lois      \n2 oils   oils      \n3 silo   silo      \n4 merger merger    "
     },
     "metadata": {},
     "output_type": "display_data"
    }
   ],
   "source": "word_df$lower_case <- tolower(word_df$word)\n\nhead(word_df)"
  },
  {
   "cell_type": "code",
   "execution_count": 185,
   "metadata": {},
   "outputs": [
    {
     "data": {
      "text/html": "<ol>\n\t<li><ol class=list-inline>\n\t<li>'l'</li>\n\t<li>'o'</li>\n\t<li>'i'</li>\n\t<li>'s'</li>\n</ol>\n</li>\n\t<li><ol class=list-inline>\n\t<li>'o'</li>\n\t<li>'i'</li>\n\t<li>'l'</li>\n\t<li>'s'</li>\n</ol>\n</li>\n\t<li><ol class=list-inline>\n\t<li>'s'</li>\n\t<li>'i'</li>\n\t<li>'l'</li>\n\t<li>'o'</li>\n</ol>\n</li>\n\t<li><ol class=list-inline>\n\t<li>'m'</li>\n\t<li>'e'</li>\n\t<li>'r'</li>\n\t<li>'g'</li>\n\t<li>'e'</li>\n\t<li>'r'</li>\n</ol>\n</li>\n</ol>\n",
      "text/latex": "\\begin{enumerate}\n\\item \\begin{enumerate*}\n\\item 'l'\n\\item 'o'\n\\item 'i'\n\\item 's'\n\\end{enumerate*}\n\n\\item \\begin{enumerate*}\n\\item 'o'\n\\item 'i'\n\\item 'l'\n\\item 's'\n\\end{enumerate*}\n\n\\item \\begin{enumerate*}\n\\item 's'\n\\item 'i'\n\\item 'l'\n\\item 'o'\n\\end{enumerate*}\n\n\\item \\begin{enumerate*}\n\\item 'm'\n\\item 'e'\n\\item 'r'\n\\item 'g'\n\\item 'e'\n\\item 'r'\n\\end{enumerate*}\n\n\\end{enumerate}\n",
      "text/markdown": "1. 1. 'l'\n2. 'o'\n3. 'i'\n4. 's'\n\n\n\n2. 1. 'o'\n2. 'i'\n3. 'l'\n4. 's'\n\n\n\n3. 1. 's'\n2. 'i'\n3. 'l'\n4. 'o'\n\n\n\n4. 1. 'm'\n2. 'e'\n3. 'r'\n4. 'g'\n5. 'e'\n6. 'r'\n\n\n\n\n\n",
      "text/plain": "[[1]]\n[1] \"l\" \"o\" \"i\" \"s\"\n\n[[2]]\n[1] \"o\" \"i\" \"l\" \"s\"\n\n[[3]]\n[1] \"s\" \"i\" \"l\" \"o\"\n\n[[4]]\n[1] \"m\" \"e\" \"r\" \"g\" \"e\" \"r\"\n"
     },
     "metadata": {},
     "output_type": "display_data"
    }
   ],
   "source": "splits <- strsplit(word_df$lower_case, \"\", )\nsplits"
  },
  {
   "cell_type": "code",
   "execution_count": 199,
   "metadata": {},
   "outputs": [
    {
     "data": {
      "text/html": "<table>\n<caption>A data.frame: 4 × 3</caption>\n<thead>\n\t<tr><th scope=col>word</th><th scope=col>lower_case</th><th scope=col>sorted</th></tr>\n\t<tr><th scope=col>&lt;chr&gt;</th><th scope=col>&lt;chr&gt;</th><th scope=col>&lt;chr&gt;</th></tr>\n</thead>\n<tbody>\n\t<tr><td>Lois  </td><td>lois  </td><td>ilos  </td></tr>\n\t<tr><td>oils  </td><td>oils  </td><td>ilos  </td></tr>\n\t<tr><td>silo  </td><td>silo  </td><td>ilos  </td></tr>\n\t<tr><td>merger</td><td>merger</td><td>eegmrr</td></tr>\n</tbody>\n</table>\n",
      "text/latex": "A data.frame: 4 × 3\n\\begin{tabular}{lll}\n word & lower\\_case & sorted\\\\\n <chr> & <chr> & <chr>\\\\\n\\hline\n\t Lois   & lois   & ilos  \\\\\n\t oils   & oils   & ilos  \\\\\n\t silo   & silo   & ilos  \\\\\n\t merger & merger & eegmrr\\\\\n\\end{tabular}\n",
      "text/markdown": "\nA data.frame: 4 × 3\n\n| word &lt;chr&gt; | lower_case &lt;chr&gt; | sorted &lt;chr&gt; |\n|---|---|---|\n| Lois   | lois   | ilos   |\n| oils   | oils   | ilos   |\n| silo   | silo   | ilos   |\n| merger | merger | eegmrr |\n\n",
      "text/plain": "  word   lower_case sorted\n1 Lois   lois       ilos  \n2 oils   oils       ilos  \n3 silo   silo       ilos  \n4 merger merger     eegmrr"
     },
     "metadata": {},
     "output_type": "display_data"
    }
   ],
   "source": "# So I think what I want to do is to process each value in the \"splits\" list\n# and then assign it by index position to a new column in the \"word_df\"\n\nn <- length(word_df$word)\n\n# pre-allocate a new vector in the dataframe to write to that is the length and type we need\nword_df$sorted <- vector(\"character\", n)\n\nfor (i in 1:n) {\n    word_df$sorted[i] <- paste0(sort(splits[[i]]), collapse = \"\")\n}\n\nword_df"
  },
  {
   "cell_type": "code",
   "execution_count": 186,
   "metadata": {},
   "outputs": [
    {
     "data": {
      "text/plain": "      user     system    elapsed \n0.00014251 0.00000005 0.00014306 "
     },
     "metadata": {},
     "output_type": "display_data"
    }
   ],
   "source": "# How I was timing things before\nsystem.time(\n    for (i in 1:100000) \n        lapply(word_df$word, function(x) {paste0(sort(unlist(strsplit(tolower(x), \"\"))), collapse = \"\")})\n            ) / 100000"
  },
  {
   "cell_type": "code",
   "execution_count": 191,
   "metadata": {},
   "outputs": [
    {
     "data": {
      "text/html": "<ol class=list-inline>\n\t<li>FALSE</li>\n\t<li>FALSE</li>\n\t<li>FALSE</li>\n\t<li>FALSE</li>\n\t<li>FALSE</li>\n\t<li>FALSE</li>\n\t<li>FALSE</li>\n\t<li>FALSE</li>\n\t<li>TRUE</li>\n\t<li>FALSE</li>\n\t<li>FALSE</li>\n\t<li>TRUE</li>\n\t<li>FALSE</li>\n\t<li>FALSE</li>\n\t<li>TRUE</li>\n\t<li>FALSE</li>\n\t<li>FALSE</li>\n\t<li>FALSE</li>\n\t<li>TRUE</li>\n\t<li>FALSE</li>\n\t<li>FALSE</li>\n\t<li>FALSE</li>\n\t<li>FALSE</li>\n\t<li>FALSE</li>\n\t<li>FALSE</li>\n\t<li>FALSE</li>\n</ol>\n",
      "text/latex": "\\begin{enumerate*}\n\\item FALSE\n\\item FALSE\n\\item FALSE\n\\item FALSE\n\\item FALSE\n\\item FALSE\n\\item FALSE\n\\item FALSE\n\\item TRUE\n\\item FALSE\n\\item FALSE\n\\item TRUE\n\\item FALSE\n\\item FALSE\n\\item TRUE\n\\item FALSE\n\\item FALSE\n\\item FALSE\n\\item TRUE\n\\item FALSE\n\\item FALSE\n\\item FALSE\n\\item FALSE\n\\item FALSE\n\\item FALSE\n\\item FALSE\n\\end{enumerate*}\n",
      "text/markdown": "1. FALSE\n2. FALSE\n3. FALSE\n4. FALSE\n5. FALSE\n6. FALSE\n7. FALSE\n8. FALSE\n9. TRUE\n10. FALSE\n11. FALSE\n12. TRUE\n13. FALSE\n14. FALSE\n15. TRUE\n16. FALSE\n17. FALSE\n18. FALSE\n19. TRUE\n20. FALSE\n21. FALSE\n22. FALSE\n23. FALSE\n24. FALSE\n25. FALSE\n26. FALSE\n\n\n",
      "text/plain": " [1] FALSE FALSE FALSE FALSE FALSE FALSE FALSE FALSE  TRUE FALSE FALSE  TRUE\n[13] FALSE FALSE  TRUE FALSE FALSE FALSE  TRUE FALSE FALSE FALSE FALSE FALSE\n[25] FALSE FALSE"
     },
     "metadata": {},
     "output_type": "display_data"
    },
    {
     "data": {
      "text/html": "<ol class=list-inline>\n\t<li>'i'</li>\n\t<li>'l'</li>\n\t<li>'o'</li>\n\t<li>'s'</li>\n</ol>\n",
      "text/latex": "\\begin{enumerate*}\n\\item 'i'\n\\item 'l'\n\\item 'o'\n\\item 's'\n\\end{enumerate*}\n",
      "text/markdown": "1. 'i'\n2. 'l'\n3. 'o'\n4. 's'\n\n\n",
      "text/plain": "[1] \"i\" \"l\" \"o\" \"s\""
     },
     "metadata": {},
     "output_type": "display_data"
    }
   ],
   "source": "# Another way to get the sorted letters in the word\n\nletters <- c(\"a\", \"b\", \"c\", \"d\", \"e\", \"f\", \"g\", \"h\", \"i\", \n             \"j\", \"k\", \"l\", \"m\", \"n\", \"o\", \"p\",\"q\", \"r\", \n             \"s\", \"t\", \"u\", \"v\", \"w\", \"x\", \"y\", \"z\")\n\nletters %in% unlist(strsplit('lois', \"\"))\n\nletters[letters %in% unlist(strsplit(splits[[1]], \"\"))]"
  }
 ],
 "metadata": {
  "kernelspec": {
   "display_name": "R",
   "language": "R",
   "name": "ir"
  },
  "language_info": {
   "codemirror_mode": "r",
   "file_extension": ".r",
   "mimetype": "text/x-r-source",
   "name": "R",
   "pygments_lexer": "r",
   "version": "3.6.1"
  }
 },
 "nbformat": 4,
 "nbformat_minor": 4
}
